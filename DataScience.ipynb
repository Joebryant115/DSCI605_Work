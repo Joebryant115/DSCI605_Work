{
  "metadata": {
    "kernelspec": {
      "name": "python",
      "display_name": "Python (Pyodide)",
      "language": "python"
    },
    "language_info": {
      "codemirror_mode": {
        "name": "python",
        "version": 3
      },
      "file_extension": ".py",
      "mimetype": "text/x-python",
      "name": "python",
      "nbconvert_exporter": "python",
      "pygments_lexer": "ipython3",
      "version": "3.8"
    }
  },
  "nbformat_minor": 4,
  "nbformat": 4,
  "cells": [
    {
      "cell_type": "code",
      "source": "",
      "metadata": {
        "trusted": true
      },
      "outputs": [],
      "execution_count": null
    },
    {
      "cell_type": "markdown",
      "source": "# Data Science Tools and Ecosystem\n",
      "metadata": {}
    },
    {
      "cell_type": "markdown",
      "source": "In this notebook, Data Science Tools and Ecosystem are summarized.\n",
      "metadata": {}
    },
    {
      "cell_type": "markdown",
      "source": "Some of the popular languages that Data Scientists use are:\n1. Python\n2. R\n3. SQL\n4. Julia\n5. Scala\n\n",
      "metadata": {}
    },
    {
      "cell_type": "markdown",
      "source": "Some libraries used by Data Scientists:\n1. Pandas\n2. NumPy\n3. SciPy\n4. Scikit-learn\n5. TensorFlow\n6. Keras\n7. Matplotlib\n8. Seaborn\n",
      "metadata": {}
    },
    {
      "cell_type": "markdown",
      "source": "| Data Science    |\n|-----------------|\n| Jupyter         |\n| RStudio         |\n| Apache Hadoop   |\n| Apache Spark    |\n| Tableau         |\n",
      "metadata": {}
    },
    {
      "cell_type": "markdown",
      "source": "### Here are few examples of evaluating arithmetic expressions.\n",
      "metadata": {}
    },
    {
      "cell_type": "code",
      "source": "# This is a simple arithmetic\nresult = (6 * 9) + 5\nresult\n",
      "metadata": {
        "trusted": true
      },
      "outputs": [
        {
          "execution_count": 1,
          "output_type": "execute_result",
          "data": {
            "text/plain": "59"
          },
          "metadata": {}
        }
      ],
      "execution_count": 1
    },
    {
      "cell_type": "code",
      "source": "# This will convert 220 minutes to hours by dividing by 60\nminutes = 220\nhours = minutes / 60\nhours\n",
      "metadata": {
        "trusted": true
      },
      "outputs": [
        {
          "execution_count": 2,
          "output_type": "execute_result",
          "data": {
            "text/plain": "3.6666666666666665"
          },
          "metadata": {}
        }
      ],
      "execution_count": 2
    },
    {
      "cell_type": "markdown",
      "source": "**Objectives:**\n- List popular languages\n- Identify commonly used libraries\n- Environment tools used DS\n- Arithmetic operations in Python Example\n",
      "metadata": {}
    },
    {
      "cell_type": "markdown",
      "source": "## Author\nJoe Bryant\n",
      "metadata": {}
    },
    {
      "cell_type": "code",
      "source": "",
      "metadata": {
        "trusted": true
      },
      "outputs": [],
      "execution_count": null
    }
  ]
}